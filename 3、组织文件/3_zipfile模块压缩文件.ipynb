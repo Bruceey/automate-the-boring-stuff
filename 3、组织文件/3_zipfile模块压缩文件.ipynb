{
 "cells": [
  {
   "cell_type": "code",
   "execution_count": 1,
   "metadata": {
    "collapsed": true,
    "ExecuteTime": {
     "end_time": "2023-06-23T02:23:32.559327400Z",
     "start_time": "2023-06-23T02:23:32.512288500Z"
    }
   },
   "outputs": [],
   "source": [
    "import zipfile\n",
    "import shutil\n",
    "import os\n",
    "from pathlib import Path"
   ]
  },
  {
   "cell_type": "code",
   "execution_count": 57,
   "outputs": [],
   "source": [
    "# 1、压缩单个文件\n",
    "with zipfile.ZipFile('List.zip', 'w', compression=zipfile.ZIP_DEFLATED) as newZip:\n",
    "    filepath = r'C:\\Users\\17634\\PycharmProjects\\automate-the-boring-stuff\\Test\\List.py'\n",
    "    newZip.write(filepath, arcname=os.path.basename(filepath))"
   ],
   "metadata": {
    "collapsed": false,
    "ExecuteTime": {
     "end_time": "2023-06-22T17:02:25.584803100Z",
     "start_time": "2023-06-22T17:02:25.551852300Z"
    }
   }
  },
  {
   "cell_type": "code",
   "execution_count": 4,
   "outputs": [
    {
     "data": {
      "text/plain": "'C:\\\\Users\\\\17634\\\\PycharmProjects\\\\automate-the-boring-stuff\\\\3、组织文件\\\\temp2.zip'"
     },
     "execution_count": 4,
     "metadata": {},
     "output_type": "execute_result"
    }
   ],
   "source": [
    "# 2、压缩整个文件夹\n",
    "# (1) 不把压缩目录作为归档的根目录\n",
    "shutil.make_archive(r'temp2', 'zip', root_dir=r'../Test')"
   ],
   "metadata": {
    "collapsed": false,
    "ExecuteTime": {
     "end_time": "2023-06-23T02:24:54.561281900Z",
     "start_time": "2023-06-23T02:24:54.532286700Z"
    }
   }
  },
  {
   "cell_type": "code",
   "execution_count": 5,
   "outputs": [
    {
     "data": {
      "text/plain": "'C:\\\\Users\\\\17634\\\\PycharmProjects\\\\automate-the-boring-stuff\\\\3、组织文件\\\\temp3.zip'"
     },
     "execution_count": 5,
     "metadata": {},
     "output_type": "execute_result"
    }
   ],
   "source": [
    "# (2) 把压缩目录作为归档的根目录\n",
    "shutil.make_archive(r'temp3', 'zip', root_dir=r'..', base_dir='Test')"
   ],
   "metadata": {
    "collapsed": false,
    "ExecuteTime": {
     "end_time": "2023-06-23T02:24:55.762549200Z",
     "start_time": "2023-06-23T02:24:55.715519700Z"
    }
   }
  },
  {
   "cell_type": "code",
   "execution_count": null,
   "outputs": [],
   "source": [
    "# 3、解压缩文件夹\n",
    "shutil.unpack_archive('List.zip', '.')"
   ],
   "metadata": {
    "collapsed": false
   }
  },
  {
   "cell_type": "code",
   "execution_count": 54,
   "outputs": [],
   "source": [
    "# 4、对目标文件夹选择修改性地压缩\n",
    "# 注：ZipFile的write()可以写入文件夹路径，但写入后是空文件夹；可直接写入多重空文件夹路径\n",
    "with zipfile.ZipFile('newZip2.zip', 'w', zipfile.ZIP_DEFLATED) as newZip:\n",
    "    src_dir = r'C:\\Users\\17634\\PycharmProjects\\automate-the-boring-stuff\\Test'\n",
    "    for dirpath, subdirs, filenames in os.walk(src_dir):\n",
    "        for filename in filenames:\n",
    "            filepath = os.path.join(dirpath, filename)\n",
    "            # 1、zipfile的write()方法第二个参数arcname解释\n",
    "            # 如此时filepath = r'C:\\Users\\17634\\PycharmProjects\\automate-the-boring-stuff\\Test\\List.py',\n",
    "            # 替换后为Test\\List.py\n",
    "            # 再如当filepath = r'C:\\Users\\17634\\PycharmProjects\\automate-the-boring-stuff\\Test\\demo\\01.py',\n",
    "            # 替换后为Test\\demo\\01.py\n",
    "            arcname = filepath.replace(os.path.dirname(src_dir) + os.path.sep, '')\n",
    "            # (1)_b 不把该目录作为压缩文件的根目录\n",
    "            # arcname = filepath.replace(src_dir + os.path.sep, '')\n",
    "            newZip.write(filepath, arcname=arcname)\n",
    "        # 2、是否压缩空文件夹\n",
    "        # 以下为压缩空文件夹代码，且把该目录作为压缩文件的根目录\n",
    "        if len(subdirs) == 0 and len(filenames) == 0:\n",
    "            arcname = dirpath.replace(os.path.dirname(src_dir) + os.path.sep, '')\n",
    "            newZip.write(dirpath, arcname=arcname)"
   ],
   "metadata": {
    "collapsed": false,
    "ExecuteTime": {
     "end_time": "2023-06-22T16:09:30.631797400Z",
     "start_time": "2023-06-22T16:09:30.601758900Z"
    }
   }
  },
  {
   "cell_type": "code",
   "execution_count": 6,
   "outputs": [],
   "source": [
    "# 直接写入多重空文件夹路径\n",
    "with zipfile.ZipFile('newZip3.zip', 'w', zipfile.ZIP_DEFLATED) as newZip:\n",
    "    newZip.write(r'C:\\Users\\17634\\PycharmProjects\\automate-the-boring-stuff\\Test\\b\\b', arcname=r'Test\\b\\b')"
   ],
   "metadata": {
    "collapsed": false,
    "ExecuteTime": {
     "end_time": "2023-06-23T02:11:29.772324600Z",
     "start_time": "2023-06-23T02:11:29.748172200Z"
    }
   }
  },
  {
   "cell_type": "code",
   "execution_count": 5,
   "outputs": [],
   "source": [],
   "metadata": {
    "collapsed": false,
    "ExecuteTime": {
     "end_time": "2023-06-23T02:28:35.184467100Z",
     "start_time": "2023-06-23T02:28:35.130469500Z"
    }
   }
  },
  {
   "cell_type": "code",
   "execution_count": 13,
   "outputs": [
    {
     "name": "stdout",
     "output_type": "stream",
     "text": [
      "C:\\Users\\17634\\PycharmProjects\\automate-the-boring-stuff\\Test\n",
      "['b', 'demo']\n",
      "['List.py', 'test01.py', 'test02.py', 'test03.py', '这是测试.txt']\n",
      "C:\\Users\\17634\\PycharmProjects\\automate-the-boring-stuff\\Test\\b\n",
      "['b']\n",
      "[]\n",
      "C:\\Users\\17634\\PycharmProjects\\automate-the-boring-stuff\\Test\\b\\b\n",
      "[]\n",
      "[]\n",
      "C:\\Users\\17634\\PycharmProjects\\automate-the-boring-stuff\\Test\\demo\n",
      "[]\n",
      "['01.py', '这是测试.txt']\n"
     ]
    }
   ],
   "source": [
    "# 参考代码\n",
    "def zipdir(dirPath=None, zipFilePath=None, includeDirInZip=True):\n",
    "    if not zipFilePath:\n",
    "        zipFilePath = dirPath + \".zip\"\n",
    "    if not os.path.isdir(dirPath):\n",
    "        raise OSError(\"必须指定一个目录， '%s'不是目录。\" % dirPath)\n",
    "    parentDir, dirToZip = os.path.split(dirPath)\n",
    "    # parentDir=C:\\Users\\Administrator\\Desktop\\菊花号\n",
    "    # dirToZip=abc\n",
    "\n",
    "\n",
    "    # Little nested function to prepare the proper archive path\n",
    "    def trimPath(path):\n",
    "        archivePath = path.replace(parentDir, \"\", 1)\n",
    "        if parentDir:\n",
    "            archivePath = archivePath.replace(os.path.sep, \"\", 1)\n",
    "        if not includeDirInZip:\n",
    "            archivePath = archivePath.replace(dirToZip + os.path.sep, \"\", 1)\n",
    "        return archivePath\n",
    "\n",
    "    outFile = zipfile.ZipFile(zipFilePath, \"w\",\n",
    "                              compression=zipfile.ZIP_DEFLATED)\n",
    "    for (archiveDirPath, dirNames, fileNames) in os.walk(dirPath):\n",
    "        print(archiveDirPath)\n",
    "        print(dirNames)\n",
    "        print(fileNames)\n",
    "        for fileName in fileNames:\n",
    "            filePath = os.path.join(archiveDirPath, fileName)\n",
    "\n",
    "            outFile.write(filePath, trimPath(filePath))\n",
    "        # Make sure we get empty directories as well\n",
    "        if not fileNames and not dirNames:\n",
    "            zipInfo = zipfile.ZipInfo(trimPath(archiveDirPath) + \"/\")\n",
    "            # print(trimPath(archiveDirPath) + \"/\")\n",
    "            # some web sites suggest doing\n",
    "            # zipInfo.external_attr = 16\n",
    "            # or\n",
    "            # zipInfo.external_attr = 48\n",
    "            # Here to allow for inserting an empty directory.  Still TBD/TODO.\n",
    "            outFile.writestr(zipInfo, \"\")\n",
    "    outFile.close()\n",
    "\n",
    "zipdir(r'C:\\Users\\17634\\PycharmProjects\\automate-the-boring-stuff\\Test', 'newZip09.zip')"
   ],
   "metadata": {
    "collapsed": false
   }
  },
  {
   "cell_type": "code",
   "execution_count": 7,
   "outputs": [],
   "source": [],
   "metadata": {
    "collapsed": false,
    "ExecuteTime": {
     "end_time": "2023-06-23T02:33:08.926559800Z",
     "start_time": "2023-06-23T02:33:08.902563900Z"
    }
   }
  },
  {
   "cell_type": "code",
   "execution_count": null,
   "outputs": [],
   "source": [],
   "metadata": {
    "collapsed": false
   }
  }
 ],
 "metadata": {
  "kernelspec": {
   "display_name": "Python 3",
   "language": "python",
   "name": "python3"
  },
  "language_info": {
   "codemirror_mode": {
    "name": "ipython",
    "version": 2
   },
   "file_extension": ".py",
   "mimetype": "text/x-python",
   "name": "python",
   "nbconvert_exporter": "python",
   "pygments_lexer": "ipython2",
   "version": "2.7.6"
  }
 },
 "nbformat": 4,
 "nbformat_minor": 0
}
