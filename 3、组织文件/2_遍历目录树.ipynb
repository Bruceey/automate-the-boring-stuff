{
 "cells": [
  {
   "cell_type": "code",
   "execution_count": 1,
   "metadata": {
    "collapsed": true,
    "ExecuteTime": {
     "end_time": "2023-06-22T04:08:29.432336Z",
     "start_time": "2023-06-22T04:08:29.390183Z"
    }
   },
   "outputs": [],
   "source": [
    "import os"
   ]
  },
  {
   "cell_type": "code",
   "execution_count": 3,
   "outputs": [
    {
     "name": "stdout",
     "output_type": "stream",
     "text": [
      ".\n",
      "[]\n",
      "['3_zipfile模块压缩文件.ipynb', '2_遍历目录树.ipynb', '1_shutil模块.ipynb']\n",
      "++++++++\n"
     ]
    }
   ],
   "source": [
    "for dirpath, subdirs, filenames in os.walk('.'):\n",
    "    print(dirpath)\n",
    "    print(subdirs)\n",
    "    print(filenames)\n",
    "    print(\"++++++++\")"
   ],
   "metadata": {
    "collapsed": false,
    "ExecuteTime": {
     "end_time": "2023-06-22T04:09:19.621900Z",
     "start_time": "2023-06-22T04:09:19.615167Z"
    }
   }
  },
  {
   "cell_type": "code",
   "execution_count": 6,
   "outputs": [
    {
     "name": "stdout",
     "output_type": "stream",
     "text": [
      "/Users/wangrui/PycharmProjects/automate-the-boring-stuff/Test\n",
      "['demo', 'temp']\n",
      "['.DS_Store', 'List.py', 'test03.py', 'test02.py', 'test01.py', '这是测试.txt']\n",
      "++++++++\n",
      "/Users/wangrui/PycharmProjects/automate-the-boring-stuff/Test/demo\n",
      "['a']\n",
      "['01.py', '.DS_Store', '这是测试.txt']\n",
      "++++++++\n",
      "/Users/wangrui/PycharmProjects/automate-the-boring-stuff/Test/demo/a\n",
      "['b']\n",
      "[]\n",
      "++++++++\n",
      "/Users/wangrui/PycharmProjects/automate-the-boring-stuff/Test/demo/a/b\n",
      "[]\n",
      "[]\n",
      "++++++++\n",
      "/Users/wangrui/PycharmProjects/automate-the-boring-stuff/Test/temp\n",
      "[]\n",
      "['temp01']\n",
      "++++++++\n"
     ]
    }
   ],
   "source": [
    "for dirpath, subdirs, filenames in os.walk('/Users/wangrui/PycharmProjects/automate-the-boring-stuff/Test'):\n",
    "    print(dirpath)\n",
    "    print(subdirs)\n",
    "    print(filenames)\n",
    "    print(\"++++++++\")"
   ],
   "metadata": {
    "collapsed": false,
    "ExecuteTime": {
     "end_time": "2023-06-22T02:36:37.839293Z",
     "start_time": "2023-06-22T02:36:37.779958Z"
    }
   }
  },
  {
   "cell_type": "code",
   "execution_count": 5,
   "outputs": [],
   "source": [
    "# os.walk(path)返回三元组，\n",
    "# 第一个是当前文件夹的绝对路径\n",
    "# 第二个是当前文件夹下的所有直接子目录(列表形式)\n",
    "# 第三个是当前文件夹下的所有文件(列表形式)"
   ],
   "metadata": {
    "collapsed": false,
    "ExecuteTime": {
     "end_time": "2023-06-22T02:33:49.927031Z",
     "start_time": "2023-06-22T02:33:49.922205Z"
    }
   }
  },
  {
   "cell_type": "code",
   "execution_count": null,
   "outputs": [],
   "source": [
    "# 实际运用\n",
    "# (1)第一个返回值可以用来拼接完整路径\n",
    "# (2)for循环是深度遍历当前文件夹及所有子文件夹\n",
    "# (3)核心是只需要处理第三个参数即可"
   ],
   "metadata": {
    "collapsed": false
   }
  }
 ],
 "metadata": {
  "kernelspec": {
   "display_name": "Python 3",
   "language": "python",
   "name": "python3"
  },
  "language_info": {
   "codemirror_mode": {
    "name": "ipython",
    "version": 2
   },
   "file_extension": ".py",
   "mimetype": "text/x-python",
   "name": "python",
   "nbconvert_exporter": "python",
   "pygments_lexer": "ipython2",
   "version": "2.7.6"
  }
 },
 "nbformat": 4,
 "nbformat_minor": 0
}
