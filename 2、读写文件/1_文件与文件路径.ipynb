{
 "cells": [
  {
   "cell_type": "code",
   "execution_count": 1,
   "metadata": {
    "collapsed": true,
    "ExecuteTime": {
     "end_time": "2023-06-20T14:14:58.636517300Z",
     "start_time": "2023-06-20T14:14:58.625557300Z"
    }
   },
   "outputs": [],
   "source": [
    "from pathlib import Path"
   ]
  },
  {
   "cell_type": "code",
   "execution_count": 2,
   "outputs": [],
   "source": [
    "p = Path()"
   ],
   "metadata": {
    "collapsed": false,
    "ExecuteTime": {
     "end_time": "2023-06-20T14:15:15.804332300Z",
     "start_time": "2023-06-20T14:15:15.800332100Z"
    }
   }
  },
  {
   "cell_type": "code",
   "execution_count": 3,
   "outputs": [
    {
     "data": {
      "text/plain": "WindowsPath('.')"
     },
     "execution_count": 3,
     "metadata": {},
     "output_type": "execute_result"
    }
   ],
   "source": [
    "p"
   ],
   "metadata": {
    "collapsed": false,
    "ExecuteTime": {
     "end_time": "2023-06-20T14:15:20.196865200Z",
     "start_time": "2023-06-20T14:15:20.128974700Z"
    }
   }
  },
  {
   "cell_type": "code",
   "execution_count": 4,
   "outputs": [
    {
     "data": {
      "text/plain": "WindowsPath('C:/Users/17634/PycharmProjects/python_basic/2、读写文件')"
     },
     "execution_count": 4,
     "metadata": {},
     "output_type": "execute_result"
    }
   ],
   "source": [
    "p.absolute()"
   ],
   "metadata": {
    "collapsed": false,
    "ExecuteTime": {
     "end_time": "2023-06-20T14:16:06.663828500Z",
     "start_time": "2023-06-20T14:16:06.613873200Z"
    }
   }
  },
  {
   "cell_type": "code",
   "execution_count": 6,
   "outputs": [
    {
     "data": {
      "text/plain": "[WindowsPath('C:/Users/17634/PycharmProjects/python_basic/Test/Demo01.py'),\n WindowsPath('C:/Users/17634/PycharmProjects/python_basic/Test/Test01.py'),\n WindowsPath('C:/Users/17634/PycharmProjects/python_basic/Test/Test02.py'),\n WindowsPath('C:/Users/17634/PycharmProjects/python_basic/Test/Test03.py')]"
     },
     "execution_count": 6,
     "metadata": {},
     "output_type": "execute_result"
    }
   ],
   "source": [
    "# Windows的dir需要/s来表示递归搜索，Linux的find默认是递归搜索\n",
    "# 通配符*代表多个字符，?代表一个字符\n",
    "\n",
    "#glob通配符的pattern\n",
    "\"\"\"\n",
    "*           匹配零或多个任意字符\n",
    "?           匹配任何单个字符\n",
    "[seq]       匹配 seq 中的任何字符\n",
    "[!seq]      匹配任何不在 seq 中的字符\n",
    "\"\"\"\n",
    "# 由于通配符都是贪婪匹配，匹配结构没有正则表达式精确\n",
    "\n",
    "p = Path(r'C:\\Users\\17634\\PycharmProjects\\python_basic\\Test')\n",
    "sorted(p.glob('*.py'))"
   ],
   "metadata": {
    "collapsed": false,
    "ExecuteTime": {
     "end_time": "2023-06-20T14:21:14.460556500Z",
     "start_time": "2023-06-20T14:21:14.429512200Z"
    }
   }
  },
  {
   "cell_type": "code",
   "execution_count": 7,
   "outputs": [
    {
     "data": {
      "text/plain": "[WindowsPath('C:/Users/17634/PycharmProjects/python_basic/Test/temp/List.py')]"
     },
     "execution_count": 7,
     "metadata": {},
     "output_type": "execute_result"
    }
   ],
   "source": [
    "sorted(p.glob('*/*.py'))"
   ],
   "metadata": {
    "collapsed": false,
    "ExecuteTime": {
     "end_time": "2023-06-20T14:21:22.262577600Z",
     "start_time": "2023-06-20T14:21:22.197552800Z"
    }
   }
  },
  {
   "cell_type": "code",
   "execution_count": 8,
   "outputs": [
    {
     "data": {
      "text/plain": "[WindowsPath('C:/Users/17634/PycharmProjects/python_basic/Test/Demo01.py'),\n WindowsPath('C:/Users/17634/PycharmProjects/python_basic/Test/temp/List.py'),\n WindowsPath('C:/Users/17634/PycharmProjects/python_basic/Test/Test01.py'),\n WindowsPath('C:/Users/17634/PycharmProjects/python_basic/Test/Test02.py'),\n WindowsPath('C:/Users/17634/PycharmProjects/python_basic/Test/Test03.py')]"
     },
     "execution_count": 8,
     "metadata": {},
     "output_type": "execute_result"
    }
   ],
   "source": [
    "sorted(p.glob('**/*.py'))"
   ],
   "metadata": {
    "collapsed": false,
    "ExecuteTime": {
     "end_time": "2023-06-20T14:21:39.235990300Z",
     "start_time": "2023-06-20T14:21:39.159962800Z"
    }
   }
  },
  {
   "cell_type": "code",
   "execution_count": 12,
   "outputs": [
    {
     "data": {
      "text/plain": "[WindowsPath('C:/Users/17634/PycharmProjects/python_basic/Test/Demo01.py'),\n WindowsPath('C:/Users/17634/PycharmProjects/python_basic/Test/temp/List.py'),\n WindowsPath('C:/Users/17634/PycharmProjects/python_basic/Test/Test01.py'),\n WindowsPath('C:/Users/17634/PycharmProjects/python_basic/Test/Test02.py'),\n WindowsPath('C:/Users/17634/PycharmProjects/python_basic/Test/Test03.py')]"
     },
     "execution_count": 12,
     "metadata": {},
     "output_type": "execute_result"
    }
   ],
   "source": [
    "sorted(p.glob('**/*[!T]*.py'))"
   ],
   "metadata": {
    "collapsed": false,
    "ExecuteTime": {
     "end_time": "2023-06-20T14:39:52.744176500Z",
     "start_time": "2023-06-20T14:39:52.722136500Z"
    }
   }
  },
  {
   "cell_type": "code",
   "execution_count": 16,
   "outputs": [
    {
     "data": {
      "text/plain": "True"
     },
     "execution_count": 16,
     "metadata": {},
     "output_type": "execute_result"
    }
   ],
   "source": [
    "p.is_dir()"
   ],
   "metadata": {
    "collapsed": false,
    "ExecuteTime": {
     "end_time": "2023-06-20T14:48:18.133263400Z",
     "start_time": "2023-06-20T14:48:18.067190200Z"
    }
   }
  },
  {
   "cell_type": "code",
   "execution_count": 17,
   "outputs": [
    {
     "data": {
      "text/plain": "[WindowsPath('C:/Users/17634/PycharmProjects/python_basic/Test/Demo01.py'),\n WindowsPath('C:/Users/17634/PycharmProjects/python_basic/Test/temp'),\n WindowsPath('C:/Users/17634/PycharmProjects/python_basic/Test/Test01.py'),\n WindowsPath('C:/Users/17634/PycharmProjects/python_basic/Test/Test02.py'),\n WindowsPath('C:/Users/17634/PycharmProjects/python_basic/Test/Test03.py'),\n WindowsPath('C:/Users/17634/PycharmProjects/python_basic/Test/这是测试.txt')]"
     },
     "execution_count": 17,
     "metadata": {},
     "output_type": "execute_result"
    }
   ],
   "source": [
    "sorted(p.iterdir())"
   ],
   "metadata": {
    "collapsed": false,
    "ExecuteTime": {
     "end_time": "2023-06-20T14:49:15.642512300Z",
     "start_time": "2023-06-20T14:49:15.562531400Z"
    }
   }
  },
  {
   "cell_type": "code",
   "execution_count": 21,
   "outputs": [
    {
     "ename": "FileNotFoundError",
     "evalue": "[WinError 3] 系统找不到指定的路径。: 'C:\\\\Users\\\\17634\\\\PycharmProjects\\\\python_basic\\\\Test\\\\a\\\\b'",
     "output_type": "error",
     "traceback": [
      "\u001B[1;31m---------------------------------------------------------------------------\u001B[0m",
      "\u001B[1;31mFileNotFoundError\u001B[0m                         Traceback (most recent call last)",
      "\u001B[1;32m<ipython-input-21-6def75628615>\u001B[0m in \u001B[0;36m<module>\u001B[1;34m\u001B[0m\n\u001B[0;32m      1\u001B[0m \u001B[0mp2\u001B[0m \u001B[1;33m=\u001B[0m \u001B[0mp\u001B[0m \u001B[1;33m/\u001B[0m \u001B[1;34m\"a/b\"\u001B[0m\u001B[1;33m\u001B[0m\u001B[1;33m\u001B[0m\u001B[0m\n\u001B[1;32m----> 2\u001B[1;33m \u001B[0mp2\u001B[0m\u001B[1;33m.\u001B[0m\u001B[0mmkdir\u001B[0m\u001B[1;33m(\u001B[0m\u001B[1;33m)\u001B[0m\u001B[1;33m\u001B[0m\u001B[1;33m\u001B[0m\u001B[0m\n\u001B[0m",
      "\u001B[1;32m~\\Anaconda3\\lib\\pathlib.py\u001B[0m in \u001B[0;36mmkdir\u001B[1;34m(self, mode, parents, exist_ok)\u001B[0m\n\u001B[0;32m   1256\u001B[0m             \u001B[0mself\u001B[0m\u001B[1;33m.\u001B[0m\u001B[0m_raise_closed\u001B[0m\u001B[1;33m(\u001B[0m\u001B[1;33m)\u001B[0m\u001B[1;33m\u001B[0m\u001B[1;33m\u001B[0m\u001B[0m\n\u001B[0;32m   1257\u001B[0m         \u001B[1;32mtry\u001B[0m\u001B[1;33m:\u001B[0m\u001B[1;33m\u001B[0m\u001B[1;33m\u001B[0m\u001B[0m\n\u001B[1;32m-> 1258\u001B[1;33m             \u001B[0mself\u001B[0m\u001B[1;33m.\u001B[0m\u001B[0m_accessor\u001B[0m\u001B[1;33m.\u001B[0m\u001B[0mmkdir\u001B[0m\u001B[1;33m(\u001B[0m\u001B[0mself\u001B[0m\u001B[1;33m,\u001B[0m \u001B[0mmode\u001B[0m\u001B[1;33m)\u001B[0m\u001B[1;33m\u001B[0m\u001B[1;33m\u001B[0m\u001B[0m\n\u001B[0m\u001B[0;32m   1259\u001B[0m         \u001B[1;32mexcept\u001B[0m \u001B[0mFileNotFoundError\u001B[0m\u001B[1;33m:\u001B[0m\u001B[1;33m\u001B[0m\u001B[1;33m\u001B[0m\u001B[0m\n\u001B[0;32m   1260\u001B[0m             \u001B[1;32mif\u001B[0m \u001B[1;32mnot\u001B[0m \u001B[0mparents\u001B[0m \u001B[1;32mor\u001B[0m \u001B[0mself\u001B[0m\u001B[1;33m.\u001B[0m\u001B[0mparent\u001B[0m \u001B[1;33m==\u001B[0m \u001B[0mself\u001B[0m\u001B[1;33m:\u001B[0m\u001B[1;33m\u001B[0m\u001B[1;33m\u001B[0m\u001B[0m\n",
      "\u001B[1;31mFileNotFoundError\u001B[0m: [WinError 3] 系统找不到指定的路径。: 'C:\\\\Users\\\\17634\\\\PycharmProjects\\\\python_basic\\\\Test\\\\a\\\\b'"
     ]
    }
   ],
   "source": [
    "p2 = p / \"a/b\"\n",
    "p2.mkdir()"
   ],
   "metadata": {
    "collapsed": false,
    "ExecuteTime": {
     "end_time": "2023-06-20T15:00:20.289847200Z",
     "start_time": "2023-06-20T15:00:20.178546500Z"
    }
   }
  },
  {
   "cell_type": "code",
   "execution_count": 22,
   "outputs": [],
   "source": [
    "p2.mkdir(parents=True)"
   ],
   "metadata": {
    "collapsed": false,
    "ExecuteTime": {
     "end_time": "2023-06-20T15:00:44.748657400Z",
     "start_time": "2023-06-20T15:00:44.742657700Z"
    }
   }
  },
  {
   "cell_type": "code",
   "execution_count": 23,
   "outputs": [],
   "source": [
    "p3 = p / 'a'"
   ],
   "metadata": {
    "collapsed": false,
    "ExecuteTime": {
     "end_time": "2023-06-20T15:45:18.155592900Z",
     "start_time": "2023-06-20T15:45:18.100474600Z"
    }
   }
  },
  {
   "cell_type": "code",
   "execution_count": 24,
   "outputs": [],
   "source": [
    "p3.rename('C:/Users/17634/PycharmProjects/python_basic/Test/b')"
   ],
   "metadata": {
    "collapsed": false,
    "ExecuteTime": {
     "end_time": "2023-06-20T16:14:33.001468700Z",
     "start_time": "2023-06-20T16:14:32.944470900Z"
    }
   }
  },
  {
   "cell_type": "code",
   "execution_count": null,
   "outputs": [],
   "source": [],
   "metadata": {
    "collapsed": false
   }
  }
 ],
 "metadata": {
  "kernelspec": {
   "display_name": "Python 3",
   "language": "python",
   "name": "python3"
  },
  "language_info": {
   "codemirror_mode": {
    "name": "ipython",
    "version": 2
   },
   "file_extension": ".py",
   "mimetype": "text/x-python",
   "name": "python",
   "nbconvert_exporter": "python",
   "pygments_lexer": "ipython2",
   "version": "2.7.6"
  }
 },
 "nbformat": 4,
 "nbformat_minor": 0
}
